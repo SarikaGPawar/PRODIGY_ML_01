{
  "nbformat": 4,
  "nbformat_minor": 0,
  "metadata": {
    "colab": {
      "provenance": []
    },
    "kernelspec": {
      "name": "python3",
      "display_name": "Python 3"
    },
    "language_info": {
      "name": "python"
    }
  },
  "cells": [
    {
      "cell_type": "code",
      "source": [
        "import numpy as np\n",
        "import pandas as pd\n",
        "import matplotlib.pyplot as plt\n",
        "import seaborn as sns\n",
        "from sklearn.impute import SimpleImputer\n",
        "train = pd.read_csv('train.csv')\n",
        "test = pd.read_csv('test.csv')\n",
        "train.head()\n",
        "train = train.drop([\n",
        "    \"KitchenAbvGr\", \"KitchenQual\", \"TotRmsAbvGrd\", \"Functional\", \"Fireplaces\", \"FireplaceQu\",\n",
        "    \"GarageType\", \"GarageYrBlt\", \"GarageFinish\", \"GarageCars\", \"GarageArea\", \"GarageQual\",\n",
        "    \"GarageCond\", \"PavedDrive\", \"WoodDeckSF\", \"OpenPorchSF\", \"EnclosedPorch\", \"3SsnPorch\",\n",
        "    \"ScreenPorch\", \"PoolArea\", \"PoolQC\", \"Fence\", \"MiscFeature\", \"MiscVal\", \"MoSold\", \"YrSold\",\n",
        "    \"SaleType\", \"SaleCondition\"\n",
        "], axis=1)\n",
        "\n",
        "test = test.drop([\n",
        "    \"KitchenAbvGr\", \"KitchenQual\", \"TotRmsAbvGrd\", \"Functional\", \"Fireplaces\", \"FireplaceQu\",\n",
        "    \"GarageType\", \"GarageYrBlt\", \"GarageFinish\", \"GarageCars\", \"GarageArea\", \"GarageQual\",\n",
        "    \"GarageCond\", \"PavedDrive\", \"WoodDeckSF\", \"OpenPorchSF\", \"EnclosedPorch\", \"3SsnPorch\",\n",
        "    \"ScreenPorch\", \"PoolArea\", \"PoolQC\", \"Fence\", \"MiscFeature\", \"MiscVal\", \"MoSold\", \"YrSold\",\n",
        "    \"SaleType\", \"SaleCondition\"\n",
        "], axis=1)\n",
        "X_train = train[[\"GrLivArea\",\"FullBath\",\"HalfBath\",\"BedroomAbvGr\", \"Id\"]]\n",
        "y_train = train[\"SalePrice\"]\n",
        "\n",
        "X_test = test[[\"GrLivArea\",\"FullBath\",\"HalfBath\",\"BedroomAbvGr\", \"Id\"]]\n",
        "X_test = X_test.reindex(columns=X_train.columns, fill_value=0)\n",
        "X_train = X_train.select_dtypes(include=np.number)\n",
        "X_test = X_test.select_dtypes(include=np.number)\n",
        "\n",
        "\n",
        "imputer = SimpleImputer(strategy='mean')\n",
        "X_train = pd.DataFrame(imputer.fit_transform(X_train), columns=X_train.columns)\n",
        "X_test = pd.DataFrame(imputer.transform(X_test), columns=X_test.columns)\n",
        "numerical_cols = X_train.select_dtypes(include=[\"int64\", \"float64\"]).columns\n",
        "\n",
        "from sklearn.preprocessing import StandardScaler\n",
        "scaler = StandardScaler()\n",
        "\n",
        "X_train[numerical_cols] = scaler.fit_transform(X_train[numerical_cols])\n",
        "X_test[numerical_cols] = scaler.transform(X_test[numerical_cols])\n",
        "from sklearn.model_selection import train_test_split\n",
        "X_train, X_val, y_train, y_val = train_test_split(X_train, y_train, test_size=0.2, random_state=42)\n",
        "from sklearn.linear_model import LinearRegression\n",
        "\n",
        "model = LinearRegression()\n",
        "model.fit(X_train, y_train)\n",
        "\n",
        "predictions = model.predict(X_test)\n",
        "predicted = pd.DataFrame({\n",
        "    \"Id\": test[\"Id\"],\n",
        "    \"SalePrice\": predictions\n",
        "     })\n",
        "predicted.to_csv(\"predicted.csv\", index=False)\n",
        "def predict_price(grlivarea, fullbath, halfbath, bedrooms):\n",
        "    # Step 1: Create input DataFrame\n",
        "    input_data = pd.DataFrame([{\n",
        "        \"GrLivArea\": grlivarea,\n",
        "        \"FullBath\": fullbath,\n",
        "        \"HalfBath\": halfbath,\n",
        "        \"BedroomAbvGr\": bedrooms,\n",
        "        \"Id\": 0\n",
        "    }])\n",
        "    input_data = input_data.select_dtypes(include=np.number)\n",
        "    input_data = pd.DataFrame(imputer.transform(input_data), columns=input_data.columns)\n",
        "    input_data[numerical_cols] = scaler.transform(input_data[numerical_cols])\n",
        "    predicted_price = model.predict(input_data)\n",
        "    return predicted_price[0]\n",
        "price = predict_price(2500, 2, 0, 3)\n",
        "print(f\"Predicted Sale Price: {price:.2f}\")\n"
      ],
      "metadata": {
        "id": "-Xw2StA7Q0pb",
        "colab": {
          "base_uri": "https://localhost:8080/"
        },
        "outputId": "f1117fe6-0ad4-4c92-89a4-00a2e600d75b"
      },
      "execution_count": null,
      "outputs": [
        {
          "output_type": "stream",
          "name": "stdout",
          "text": [
            "Predicted Sale Price: 291477.19\n"
          ]
        }
      ]
    },
    {
      "cell_type": "code",
      "source": [],
      "metadata": {
        "id": "rLpq845Nn6RB"
      },
      "execution_count": null,
      "outputs": []
    }
  ]
}